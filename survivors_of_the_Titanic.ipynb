{
  "nbformat": 4,
  "nbformat_minor": 0,
  "metadata": {
    "colab": {
      "name": "survivors of the Titanic.ipynb",
      "provenance": []
    },
    "kernelspec": {
      "name": "python3",
      "display_name": "Python 3"
    },
    "language_info": {
      "name": "python"
    }
  },
  "cells": [
    {
      "cell_type": "markdown",
      "metadata": {
        "id": "HzYC4Hj1L7H2"
      },
      "source": [
        "Cоздать модель, которая предсказывает, какие пассажиры выжили при кораблекрушении \"Титаника\".\n",
        "\n",
        "Набор данных train_titanic.csv содержит подробную информацию о подмножестве пассажиров на борту и покажет, выжили они или нет.\n",
        "\n",
        "Набор данных test_titanic.csv содержит аналогичную информацию, но не раскрывает «основную истину» для каждого пассажира. Задача - предсказать эти результаты.\n"
      ]
    },
    {
      "cell_type": "code",
      "metadata": {
        "id": "5e_KUf_zKUmn"
      },
      "source": [
        "import numpy as np\n",
        "import pandas as pd"
      ],
      "execution_count": 1,
      "outputs": []
    },
    {
      "cell_type": "code",
      "metadata": {
        "id": "4dDliM04M851"
      },
      "source": [
        "#  чтение данных\n",
        "path_train_titanic = \"/content/drive/MyDrive/Colab Notebooks/data/train_titanic.csv\"\n",
        "path_test_titanic = \"/content/drive/MyDrive/Colab Notebooks/data/test_titanic.csv\"\n",
        "train_data = pd.read_csv(path_train_titanic)\n",
        "test_data = pd.read_csv(path_test_titanic)"
      ],
      "execution_count": 2,
      "outputs": []
    },
    {
      "cell_type": "code",
      "metadata": {
        "id": "0ibPn_79OHZH"
      },
      "source": [
        "X_full=train_data\n",
        "X_test_full=test_data"
      ],
      "execution_count": 3,
      "outputs": []
    },
    {
      "cell_type": "code",
      "metadata": {
        "colab": {
          "base_uri": "https://localhost:8080/",
          "height": 204
        },
        "id": "e4q235eNOkZL",
        "outputId": "7bd9bc1b-0b91-4294-cde4-8deb8604046f"
      },
      "source": [
        "train_data.head()"
      ],
      "execution_count": 4,
      "outputs": [
        {
          "output_type": "execute_result",
          "data": {
            "text/html": [
              "<div>\n",
              "<style scoped>\n",
              "    .dataframe tbody tr th:only-of-type {\n",
              "        vertical-align: middle;\n",
              "    }\n",
              "\n",
              "    .dataframe tbody tr th {\n",
              "        vertical-align: top;\n",
              "    }\n",
              "\n",
              "    .dataframe thead th {\n",
              "        text-align: right;\n",
              "    }\n",
              "</style>\n",
              "<table border=\"1\" class=\"dataframe\">\n",
              "  <thead>\n",
              "    <tr style=\"text-align: right;\">\n",
              "      <th></th>\n",
              "      <th>PassengerId</th>\n",
              "      <th>Survived</th>\n",
              "      <th>Pclass</th>\n",
              "      <th>Name</th>\n",
              "      <th>Sex</th>\n",
              "      <th>Age</th>\n",
              "      <th>SibSp</th>\n",
              "      <th>Parch</th>\n",
              "      <th>Ticket</th>\n",
              "      <th>Fare</th>\n",
              "      <th>Cabin</th>\n",
              "      <th>Embarked</th>\n",
              "    </tr>\n",
              "  </thead>\n",
              "  <tbody>\n",
              "    <tr>\n",
              "      <th>0</th>\n",
              "      <td>1</td>\n",
              "      <td>0</td>\n",
              "      <td>3</td>\n",
              "      <td>Braund, Mr. Owen Harris</td>\n",
              "      <td>male</td>\n",
              "      <td>22.0</td>\n",
              "      <td>1</td>\n",
              "      <td>0</td>\n",
              "      <td>A/5 21171</td>\n",
              "      <td>7.2500</td>\n",
              "      <td>NaN</td>\n",
              "      <td>S</td>\n",
              "    </tr>\n",
              "    <tr>\n",
              "      <th>1</th>\n",
              "      <td>2</td>\n",
              "      <td>1</td>\n",
              "      <td>1</td>\n",
              "      <td>Cumings, Mrs. John Bradley (Florence Briggs Th...</td>\n",
              "      <td>female</td>\n",
              "      <td>38.0</td>\n",
              "      <td>1</td>\n",
              "      <td>0</td>\n",
              "      <td>PC 17599</td>\n",
              "      <td>71.2833</td>\n",
              "      <td>C85</td>\n",
              "      <td>C</td>\n",
              "    </tr>\n",
              "    <tr>\n",
              "      <th>2</th>\n",
              "      <td>3</td>\n",
              "      <td>1</td>\n",
              "      <td>3</td>\n",
              "      <td>Heikkinen, Miss. Laina</td>\n",
              "      <td>female</td>\n",
              "      <td>26.0</td>\n",
              "      <td>0</td>\n",
              "      <td>0</td>\n",
              "      <td>STON/O2. 3101282</td>\n",
              "      <td>7.9250</td>\n",
              "      <td>NaN</td>\n",
              "      <td>S</td>\n",
              "    </tr>\n",
              "    <tr>\n",
              "      <th>3</th>\n",
              "      <td>4</td>\n",
              "      <td>1</td>\n",
              "      <td>1</td>\n",
              "      <td>Futrelle, Mrs. Jacques Heath (Lily May Peel)</td>\n",
              "      <td>female</td>\n",
              "      <td>35.0</td>\n",
              "      <td>1</td>\n",
              "      <td>0</td>\n",
              "      <td>113803</td>\n",
              "      <td>53.1000</td>\n",
              "      <td>C123</td>\n",
              "      <td>S</td>\n",
              "    </tr>\n",
              "    <tr>\n",
              "      <th>4</th>\n",
              "      <td>5</td>\n",
              "      <td>0</td>\n",
              "      <td>3</td>\n",
              "      <td>Allen, Mr. William Henry</td>\n",
              "      <td>male</td>\n",
              "      <td>35.0</td>\n",
              "      <td>0</td>\n",
              "      <td>0</td>\n",
              "      <td>373450</td>\n",
              "      <td>8.0500</td>\n",
              "      <td>NaN</td>\n",
              "      <td>S</td>\n",
              "    </tr>\n",
              "  </tbody>\n",
              "</table>\n",
              "</div>"
            ],
            "text/plain": [
              "   PassengerId  Survived  Pclass  ...     Fare Cabin  Embarked\n",
              "0            1         0       3  ...   7.2500   NaN         S\n",
              "1            2         1       1  ...  71.2833   C85         C\n",
              "2            3         1       3  ...   7.9250   NaN         S\n",
              "3            4         1       1  ...  53.1000  C123         S\n",
              "4            5         0       3  ...   8.0500   NaN         S\n",
              "\n",
              "[5 rows x 12 columns]"
            ]
          },
          "metadata": {
            "tags": []
          },
          "execution_count": 4
        }
      ]
    },
    {
      "cell_type": "code",
      "metadata": {
        "colab": {
          "base_uri": "https://localhost:8080/"
        },
        "id": "NYFliBdpUi_A",
        "outputId": "60476014-4acb-4bdc-abf1-a8683d5f2333"
      },
      "source": [
        "missing_values_count = train_data.isnull().sum()\n",
        "print(missing_values_count)"
      ],
      "execution_count": 5,
      "outputs": [
        {
          "output_type": "stream",
          "text": [
            "PassengerId      0\n",
            "Survived         0\n",
            "Pclass           0\n",
            "Name             0\n",
            "Sex              0\n",
            "Age            177\n",
            "SibSp            0\n",
            "Parch            0\n",
            "Ticket           0\n",
            "Fare             0\n",
            "Cabin          687\n",
            "Embarked         2\n",
            "dtype: int64\n"
          ],
          "name": "stdout"
        }
      ]
    },
    {
      "cell_type": "code",
      "metadata": {
        "id": "CzSjWd8iOP08"
      },
      "source": [
        "# отделяем столбец target\n",
        "y = X_full['Survived']"
      ],
      "execution_count": 6,
      "outputs": []
    },
    {
      "cell_type": "code",
      "metadata": {
        "id": "Ll_Dql8MORLP"
      },
      "source": [
        "# удаляем столбец target из тренировочных данных\n",
        "drop_cols_X_full=['Survived']\n",
        "X_full.drop(drop_cols_X_full,axis=1, inplace=True)"
      ],
      "execution_count": 7,
      "outputs": []
    },
    {
      "cell_type": "code",
      "metadata": {
        "id": "ki0eiYZDOUTo"
      },
      "source": [
        "# разделим набор данных на обучааааащий и проверочный\n",
        "from sklearn.model_selection import train_test_split\n",
        "X_train_full, X_valid_full, y_train, y_valid = train_test_split(X_full, y, train_size = 0.8, test_size = 0.2, random_state = 0)"
      ],
      "execution_count": 8,
      "outputs": []
    },
    {
      "cell_type": "code",
      "metadata": {
        "id": "C9533pRgOYIL"
      },
      "source": [
        "# выберем категорийные столбцы с малой мощьностью\n",
        "cat_cols=[cname for cname in X_train_full.columns \n",
        "          if X_train_full[cname].nunique() < 10 and X_train_full[cname].dtype == 'object']"
      ],
      "execution_count": 9,
      "outputs": []
    },
    {
      "cell_type": "code",
      "metadata": {
        "colab": {
          "base_uri": "https://localhost:8080/"
        },
        "id": "zcQB1Hh0Obme",
        "outputId": "38def7ac-4691-48d6-d807-9b4fd6bfd882"
      },
      "source": [
        "cat_cols"
      ],
      "execution_count": 10,
      "outputs": [
        {
          "output_type": "execute_result",
          "data": {
            "text/plain": [
              "['Sex', 'Embarked']"
            ]
          },
          "metadata": {
            "tags": []
          },
          "execution_count": 10
        }
      ]
    },
    {
      "cell_type": "code",
      "metadata": {
        "id": "BhQqDz8kOePS"
      },
      "source": [
        "# выберем числовые столбцы\n",
        "num_cols=[cname for cname in X_train_full.columns \n",
        "          if X_train_full[cname].dtype in ['int64', 'float64']]"
      ],
      "execution_count": 11,
      "outputs": []
    },
    {
      "cell_type": "code",
      "metadata": {
        "colab": {
          "base_uri": "https://localhost:8080/"
        },
        "id": "F8BBwDxIOgjx",
        "outputId": "a7a5f7e3-298b-43e1-e236-acca75e782e8"
      },
      "source": [
        "num_cols"
      ],
      "execution_count": 12,
      "outputs": [
        {
          "output_type": "execute_result",
          "data": {
            "text/plain": [
              "['PassengerId', 'Pclass', 'Age', 'SibSp', 'Parch', 'Fare']"
            ]
          },
          "metadata": {
            "tags": []
          },
          "execution_count": 12
        }
      ]
    },
    {
      "cell_type": "code",
      "metadata": {
        "id": "OdCXPPhzOqTR"
      },
      "source": [
        "# оставить только выбранные столбцы\n",
        "my_cols = cat_cols + num_cols\n",
        "X_train=X_train_full[my_cols]\n",
        "X_valid=X_valid_full[my_cols]\n",
        "X_test=X_test_full[my_cols]"
      ],
      "execution_count": 13,
      "outputs": []
    },
    {
      "cell_type": "code",
      "metadata": {
        "id": "DzpB5MipOra0"
      },
      "source": [
        "# импорт библиотек\n",
        "from sklearn.compose import ColumnTransformer\n",
        "from sklearn.pipeline import Pipeline\n",
        "from sklearn.impute import SimpleImputer\n",
        "from sklearn.preprocessing import OneHotEncoder\n",
        "from sklearn.ensemble import RandomForestRegressor\n",
        "from sklearn.metrics import mean_absolute_error"
      ],
      "execution_count": 14,
      "outputs": []
    },
    {
      "cell_type": "code",
      "metadata": {
        "id": "2Hv5xUnIOuUR"
      },
      "source": [
        "# предварительная обработка числовых данных\n",
        "num_transformer=SimpleImputer(strategy='median')"
      ],
      "execution_count": 15,
      "outputs": []
    },
    {
      "cell_type": "code",
      "metadata": {
        "id": "qPSGSq8dOyJI"
      },
      "source": [
        "# предварительная обработка категориальных данных\n",
        "cat_transformer=Pipeline(steps=[('imputer', SimpleImputer(strategy='constant')),('onehot', OneHotEncoder(handle_unknown='ignore'))])"
      ],
      "execution_count": 16,
      "outputs": []
    },
    {
      "cell_type": "code",
      "metadata": {
        "id": "gYeRzPqvO7Xk"
      },
      "source": [
        "# пакетная предварительная обработка числовых и категориальных данных\n",
        "processor=ColumnTransformer(transformers=[('num', num_transformer, num_cols),('cat', cat_transformer, cat_cols)])"
      ],
      "execution_count": 17,
      "outputs": []
    },
    {
      "cell_type": "code",
      "metadata": {
        "id": "HPzhlWRGPBs7"
      },
      "source": [
        "# определение модели\n",
        "model = RandomForestRegressor(n_estimators=41, random_state=0)"
      ],
      "execution_count": 18,
      "outputs": []
    },
    {
      "cell_type": "code",
      "metadata": {
        "id": "V_jmtFvhPE-z"
      },
      "source": [
        "# объединение кода предварительной обработки и моделирования в pipeline\n",
        "my_pipeline=Pipeline(steps=[('processor',processor),('model',model)])"
      ],
      "execution_count": 19,
      "outputs": []
    },
    {
      "cell_type": "code",
      "metadata": {
        "colab": {
          "base_uri": "https://localhost:8080/"
        },
        "id": "7CYVxPbXPHNl",
        "outputId": "c60e70c2-4036-4804-d275-32947d3135d1"
      },
      "source": [
        "# обучение модели\n",
        "my_pipeline.fit(X_train, y_train)"
      ],
      "execution_count": 20,
      "outputs": [
        {
          "output_type": "execute_result",
          "data": {
            "text/plain": [
              "Pipeline(memory=None,\n",
              "         steps=[('processor',\n",
              "                 ColumnTransformer(n_jobs=None, remainder='drop',\n",
              "                                   sparse_threshold=0.3,\n",
              "                                   transformer_weights=None,\n",
              "                                   transformers=[('num',\n",
              "                                                  SimpleImputer(add_indicator=False,\n",
              "                                                                copy=True,\n",
              "                                                                fill_value=None,\n",
              "                                                                missing_values=nan,\n",
              "                                                                strategy='median',\n",
              "                                                                verbose=0),\n",
              "                                                  ['PassengerId', 'Pclass',\n",
              "                                                   'Age', 'SibSp', 'Parch',\n",
              "                                                   'Fare']),\n",
              "                                                 ('cat',\n",
              "                                                  Pipeline(memory=None,\n",
              "                                                           step...\n",
              "                 RandomForestRegressor(bootstrap=True, ccp_alpha=0.0,\n",
              "                                       criterion='mse', max_depth=None,\n",
              "                                       max_features='auto', max_leaf_nodes=None,\n",
              "                                       max_samples=None,\n",
              "                                       min_impurity_decrease=0.0,\n",
              "                                       min_impurity_split=None,\n",
              "                                       min_samples_leaf=1, min_samples_split=2,\n",
              "                                       min_weight_fraction_leaf=0.0,\n",
              "                                       n_estimators=41, n_jobs=None,\n",
              "                                       oob_score=False, random_state=0,\n",
              "                                       verbose=0, warm_start=False))],\n",
              "         verbose=False)"
            ]
          },
          "metadata": {
            "tags": []
          },
          "execution_count": 20
        }
      ]
    },
    {
      "cell_type": "code",
      "metadata": {
        "id": "ezDtR7aNPeKu"
      },
      "source": [
        "# получение прогноза\n",
        "preds=my_pipeline.predict(X_valid)"
      ],
      "execution_count": 21,
      "outputs": []
    },
    {
      "cell_type": "code",
      "metadata": {
        "colab": {
          "base_uri": "https://localhost:8080/"
        },
        "id": "C-W5ZCwVPfY-",
        "outputId": "65c5a056-a111-4d7f-9970-37c19230b126"
      },
      "source": [
        "preds"
      ],
      "execution_count": 22,
      "outputs": [
        {
          "output_type": "execute_result",
          "data": {
            "text/plain": [
              "array([0.51219512, 0.        , 0.34146341, 0.70731707, 0.2195122 ,\n",
              "       0.07317073, 0.85365854, 0.7804878 , 0.51219512, 0.6097561 ,\n",
              "       0.12195122, 0.51219512, 0.02439024, 1.        , 1.        ,\n",
              "       0.90243902, 0.02439024, 0.09756098, 0.02439024, 0.90243902,\n",
              "       0.17073171, 0.63414634, 0.        , 0.14634146, 0.51219512,\n",
              "       1.        , 0.31707317, 0.75609756, 0.95121951, 0.34146341,\n",
              "       0.2195122 , 0.82926829, 0.14634146, 0.2195122 , 0.02439024,\n",
              "       0.51219512, 0.09756098, 0.        , 0.09756098, 0.19512195,\n",
              "       0.19512195, 0.02439024, 0.09756098, 0.09756098, 1.        ,\n",
              "       0.        , 0.        , 0.92682927, 0.        , 0.12195122,\n",
              "       0.09756098, 0.04878049, 1.        , 0.09756098, 0.17073171,\n",
              "       0.36585366, 0.29268293, 0.        , 0.19512195, 0.        ,\n",
              "       0.2195122 , 0.73170732, 0.97560976, 0.07317073, 0.7804878 ,\n",
              "       0.48780488, 0.95121951, 0.09756098, 0.41463415, 0.95121951,\n",
              "       1.        , 0.36585366, 0.36585366, 0.09756098, 0.12195122,\n",
              "       0.90243902, 0.36585366, 0.41463415, 0.04878049, 0.2195122 ,\n",
              "       0.        , 0.63414634, 1.        , 0.02439024, 0.29268293,\n",
              "       1.        , 1.        , 0.41463415, 1.        , 0.56097561,\n",
              "       0.02439024, 0.02439024, 0.92682927, 0.97560976, 0.        ,\n",
              "       0.14634146, 0.80487805, 0.2195122 , 0.48780488, 0.73170732,\n",
              "       0.12195122, 0.09756098, 0.        , 0.24390244, 0.24390244,\n",
              "       0.36585366, 1.        , 0.09756098, 0.12195122, 0.48780488,\n",
              "       0.09756098, 1.        , 0.19512195, 0.29268293, 0.2195122 ,\n",
              "       0.97560976, 0.46341463, 1.        , 0.12195122, 0.92682927,\n",
              "       0.75609756, 0.34146341, 0.14634146, 0.07317073, 0.04878049,\n",
              "       0.17073171, 0.2195122 , 0.14634146, 0.02439024, 0.07317073,\n",
              "       0.73170732, 0.04878049, 0.07317073, 0.3902439 , 0.24390244,\n",
              "       0.04878049, 0.02439024, 0.46341463, 0.07317073, 0.09756098,\n",
              "       0.07317073, 1.        , 0.07317073, 0.80487805, 1.        ,\n",
              "       0.6097561 , 0.12195122, 0.87804878, 0.87804878, 0.09756098,\n",
              "       0.14634146, 0.34146341, 0.53658537, 0.12195122, 0.97560976,\n",
              "       0.02439024, 0.19512195, 0.07317073, 1.        , 0.7804878 ,\n",
              "       0.        , 0.17073171, 1.        , 0.2195122 , 0.17073171,\n",
              "       0.34146341, 0.        , 0.3902439 , 0.02439024, 0.07317073,\n",
              "       0.19512195, 0.90243902, 0.02439024, 0.        , 0.92682927,\n",
              "       0.04878049, 0.97560976, 0.        , 0.56097561])"
            ]
          },
          "metadata": {
            "tags": []
          },
          "execution_count": 22
        }
      ]
    },
    {
      "cell_type": "code",
      "metadata": {
        "colab": {
          "base_uri": "https://localhost:8080/"
        },
        "id": "NV7U5CDrPloJ",
        "outputId": "f6d3c2ad-6c72-46de-ec58-a7fc0671709b"
      },
      "source": [
        "print('mean_absolute_error:', round(mean_absolute_error(y_valid, preds)*100,2))"
      ],
      "execution_count": 23,
      "outputs": [
        {
          "output_type": "stream",
          "text": [
            "mean_absolute_error: 24.58\n"
          ],
          "name": "stdout"
        }
      ]
    },
    {
      "cell_type": "markdown",
      "metadata": {
        "id": "EpEt27m4S-29"
      },
      "source": [
        "Т.е. наша модель дает прогноз с ошибкой в 24,58%"
      ]
    },
    {
      "cell_type": "code",
      "metadata": {
        "id": "vDuykCLuPpRE"
      },
      "source": [
        "# создание прогноза для основного файла test_data (X_test_full)\n",
        "preds_test=my_pipeline.predict(X_test)"
      ],
      "execution_count": 24,
      "outputs": []
    }
  ]
}